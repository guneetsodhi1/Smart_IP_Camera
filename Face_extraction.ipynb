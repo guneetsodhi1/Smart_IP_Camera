{
  "cells": [
    {
      "cell_type": "code",
      "execution_count": null,
      "metadata": {
        "id": "0sIfC1AJLHlU"
      },
      "outputs": [],
      "source": [
        "import cv2\n",
        "import mediapipe as mp\n",
        "import numpy as np\n",
        "import os\n"
      ]
    },
    {
      "cell_type": "code",
      "execution_count": null,
      "metadata": {},
      "outputs": [],
      "source": [
        "\n",
        "IMAGE_FILES = []\n",
        "\n",
        "folder = \"C:/project/deployment/dataset\"\n"
      ]
    },
    {
      "cell_type": "code",
      "execution_count": null,
      "metadata": {},
      "outputs": [],
      "source": [
        "\n",
        "for celebrity in os.listdir(folder):\n",
        "    for image in os.listdir(f\"{folder}/{celebrity}\"):\n",
        "        if len(image.split(\".\")) > 1 and image.split(\".\")[-1] == 'jpg':\n",
        "            IMAGE_FILES.append(celebrity + '/' + image)\n",
        "print(len(IMAGE_FILES))\n",
        "padding = [ 0.5, 0.1, 0.2, 0.2]\n",
        "\n",
        "mp_face_detection = mp.solutions.face_detection\n",
        "mp_drawing = mp.solutions.drawing_utils\n",
        "\n",
        "# For static images:\n",
        "with mp_face_detection.FaceDetection(\n",
        "    model_selection=1, min_detection_confidence=0.5) as face_detection:\n",
        "  for idx, file in enumerate(IMAGE_FILES):\n",
        "    image = cv2.imread(f\"{folder}/{file}\")\n",
        "\n",
        "    if not np.any(image):\n",
        "        continue\n",
        "    # Convert the BGR image to RGB and process it with MediaPipe Face Detection.\n",
        "    results = face_detection.process(cv2.cvtColor(image, cv2.COLOR_BGR2RGB))\n",
        "\n",
        "    # Draw face detections of each face.\n",
        "    if not results.detections:\n",
        "      continue\n",
        "    for detection in results.detections:\n",
        "        box = detection.location_data.relative_bounding_box\n",
        "        rect_coords = np.array(\n",
        "            [\n",
        "                [\n",
        "                    box.xmin - box.height * padding[2],\n",
        "                    box.ymin - box.height * padding[0],\n",
        "                ],\n",
        "                [\n",
        "                    box.xmin + box.width * (1 + padding[3]),\n",
        "                    box.ymin + box.height * (1 + padding[1]),\n",
        "                ],\n",
        "            ]\n",
        "        )\n",
        "        rect_coords[:, 1] *= image.shape[0]\n",
        "        rect_coords[:, 0] *= image.shape[1]\n",
        "        rect_coords = rect_coords.astype(int)\n",
        "        face = image[\n",
        "            max(rect_coords[0, 1], 0) : rect_coords[1, 1],\n",
        "            max(rect_coords[0, 0], 0): rect_coords[1, 0],\n",
        "        ]\n",
        "\n",
        "\n",
        "        final_path = f'./latest_cropped/{file}'\n",
        "        dir_path = os.path.dirname(final_path)\n",
        "\n",
        "        if not os.path.exists(dir_path):\n",
        "            os.makedirs(dir_path)\n",
        "\n",
        "        face = cv2.resize(face, (128, 128))\n",
        "\n",
        "        cv2.imwrite(final_path, face)"
      ]
    }
  ],
  "metadata": {
    "colab": {
      "provenance": []
    },
    "kernelspec": {
      "display_name": "Python 3",
      "name": "python3"
    },
    "language_info": {
      "name": "python"
    }
  },
  "nbformat": 4,
  "nbformat_minor": 0
}
