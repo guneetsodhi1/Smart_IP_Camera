{
  "cells": [
    {
      "cell_type": "code",
      "execution_count": null,
      "metadata": {
        "colab": {
          "base_uri": "https://localhost:8080/"
        },
        "id": "ZPUEdhE3BKM9",
        "outputId": "3bfb7df2-0cb6-4752-87bb-a769e096af99"
      },
      "outputs": [
        {
          "name": "stdout",
          "output_type": "stream",
          "text": [
            "Drive already mounted at /content/drive; to attempt to forcibly remount, call drive.mount(\"/content/drive\", force_remount=True).\n"
          ]
        }
      ],
      "source": [
        "from google.colab import drive\n",
        "drive.mount('/content/drive')"
      ]
    },
    {
      "cell_type": "code",
      "execution_count": null,
      "metadata": {
        "colab": {
          "base_uri": "https://localhost:8080/"
        },
        "id": "GGcdkgjl6XaQ",
        "outputId": "a0316d2c-dd20-4979-d840-8b98ca889ad8"
      },
      "outputs": [
        {
          "data": {
            "text/plain": [
              "('2.13.0', '1.23.5')"
            ]
          },
          "execution_count": 1,
          "metadata": {},
          "output_type": "execute_result"
        }
      ],
      "source": [
        "import os\n",
        "import cv2\n",
        "import time\n",
        "import random\n",
        "import numpy as np\n",
        "\n",
        "import tensorflow as tf\n",
        "from tensorflow.keras.applications.inception_v3 import preprocess_input\n",
        "\n",
        "import seaborn as sns\n",
        "import matplotlib.pyplot as plt\n",
        "tf.__version__, np.__version__"
      ]
    },
    {
      "cell_type": "code",
      "execution_count": null,
      "metadata": {
        "id": "uP7B2WyI67C3"
      },
      "outputs": [],
      "source": [
        "from tensorflow.keras import backend, layers, metrics\n",
        "\n",
        "from tensorflow.keras.optimizers import Adam\n",
        "from tensorflow.keras.applications import Xception\n",
        "from tensorflow.keras.models import Model, Sequential\n",
        "\n",
        "from tensorflow.keras.utils import plot_model\n",
        "from sklearn.metrics import accuracy_score, confusion_matrix, classification_report"
      ]
    },
    {
      "cell_type": "code",
      "execution_count": null,
      "metadata": {
        "id": "_H4sPoKK0uuo"
      },
      "outputs": [],
      "source": [
        "ROOT = './drive/MyDrive/CroppedFaces'"
      ]
    },
    {
      "cell_type": "code",
      "execution_count": null,
      "metadata": {
        "id": "yZKF4dkA58IW"
      },
      "outputs": [],
      "source": [
        "def get_encoder(input_shape):\n",
        "    \"\"\" Returns the image encoding model \"\"\"\n",
        "\n",
        "    pretrained_model = Xception(\n",
        "        input_shape=input_shape,\n",
        "        weights='imagenet',\n",
        "        include_top=False,\n",
        "        pooling='avg',\n",
        "    )\n",
        "\n",
        "    for i in range(len(pretrained_model.layers)-27):\n",
        "        pretrained_model.layers[i].trainable = False\n",
        "\n",
        "    encode_model = Sequential([\n",
        "        pretrained_model,\n",
        "        layers.Flatten(),\n",
        "        layers.Dense(512, activation='relu'),\n",
        "        layers.BatchNormalization(),\n",
        "        layers.Dense(256, activation=\"relu\"),\n",
        "        layers.Lambda(lambda x: tf.math.l2_normalize(x, axis=1))\n",
        "    ], name=\"Encode_Model\")\n",
        "    return encode_model"
      ]
    },
    {
      "cell_type": "code",
      "execution_count": null,
      "metadata": {
        "colab": {
          "base_uri": "https://localhost:8080/"
        },
        "id": "B_v82-UW6YeU",
        "outputId": "7a5b1c30-ab72-48a3-f6e0-017b55cdd616"
      },
      "outputs": [
        {
          "name": "stdout",
          "output_type": "stream",
          "text": [
            "Downloading data from https://storage.googleapis.com/tensorflow/keras-applications/xception/xception_weights_tf_dim_ordering_tf_kernels_notop.h5\n",
            "83683744/83683744 [==============================] - 5s 0us/step\n"
          ]
        }
      ],
      "source": [
        "encoder = get_encoder((128, 128, 3))\n",
        "encoder.load_weights(\"/content/drive/MyDrive/encoder_celeb_custom.h5\")"
      ]
    },
    {
      "cell_type": "code",
      "execution_count": null,
      "metadata": {
        "id": "TVrN9nKw7dmN"
      },
      "outputs": [],
      "source": [
        "def read_image(index):\n",
        "    path = os.path.join(ROOT, index[0], index[1])\n",
        "    image = cv2.imread(path)\n",
        "    image = cv2.cvtColor(image, cv2.COLOR_BGR2RGB)\n",
        "    return image\n",
        "\n",
        "\n",
        "def create_triplets(directory, folder_list, max_files=10):\n",
        "    triplets = []\n",
        "    folders = list(folder_list.keys())\n",
        "\n",
        "    for folder in folders:\n",
        "        path = os.path.join(directory, folder)\n",
        "        files = list(os.listdir(path))[:max_files]\n",
        "        num_files = len(files)\n",
        "\n",
        "        for i in range(num_files-1):\n",
        "            for j in range(i+1, num_files):\n",
        "                anchor = (folder, files[i])\n",
        "                positive = (folder, files[j])\n",
        "\n",
        "                neg_folder = folder\n",
        "                while neg_folder == folder:\n",
        "                    neg_folder = random.choice(folders)\n",
        "                neg_file = os.listdir(os.path.join(directory, neg_folder))[random.randint(0, folder_list[neg_folder]-1)]\n",
        "                negative = (neg_folder, neg_file)\n",
        "\n",
        "                triplets.append((anchor, positive, negative))\n",
        "\n",
        "    random.shuffle(triplets)\n",
        "    return triplets\n",
        "\n",
        "def get_batch(triplet_list, batch_size=256, preprocess=True):\n",
        "    batch_steps = len(triplet_list)//batch_size\n",
        "\n",
        "    for i in range(batch_steps+1):\n",
        "        anchor   = []\n",
        "        positive = []\n",
        "        negative = []\n",
        "\n",
        "        j = i*batch_size\n",
        "        while j<(i+1)*batch_size and j<len(triplet_list):\n",
        "            a, p, n = triplet_list[j]\n",
        "            anchor.append(read_image(a))\n",
        "            positive.append(read_image(p))\n",
        "            negative.append(read_image(n))\n",
        "            j+=1\n",
        "\n",
        "        anchor = np.array(anchor)\n",
        "        positive = np.array(positive)\n",
        "        negative = np.array(negative)\n",
        "\n",
        "        if preprocess:\n",
        "            anchor = preprocess_input(anchor)\n",
        "            positive = preprocess_input(positive)\n",
        "            negative = preprocess_input(negative)\n",
        "\n",
        "        yield ([anchor, positive, negative])"
      ]
    },
    {
      "cell_type": "code",
      "execution_count": null,
      "metadata": {
        "id": "E7iVpHa98KyM"
      },
      "outputs": [],
      "source": [
        "test_list = {}\n",
        "\n",
        "directory = ROOT\n",
        "folders = os.listdir(directory)\n",
        "random.shuffle(folders)\n",
        "\n",
        "# Creating Test-list\n",
        "for folder in folders[:int(len(folders)*0.1)]:\n",
        "    num_files = len(os.listdir(os.path.join(directory, folder)))\n",
        "    test_list[folder] = num_files\n",
        "\n",
        "\n",
        "test_triplet = create_triplets(directory, test_list)"
      ]
    },
    {
      "cell_type": "code",
      "execution_count": null,
      "metadata": {
        "colab": {
          "base_uri": "https://localhost:8080/"
        },
        "id": "CvoU9S9YCAXB",
        "outputId": "a1b15139-1105-4e14-bf87-52a7f779ad77"
      },
      "outputs": [
        {
          "name": "stdout",
          "output_type": "stream",
          "text": [
            "990\n"
          ]
        }
      ],
      "source": [
        "print(len(test_triplet))"
      ]
    },
    {
      "cell_type": "code",
      "execution_count": null,
      "metadata": {
        "id": "duPbCzmw8h9d"
      },
      "outputs": [],
      "source": [
        "def get_siamese_distance(face_list1, face_list2):\n",
        "    # Getting the encodings for the passed faces\n",
        "    tensor1 = encoder.predict(face_list1)\n",
        "    tensor2 = encoder.predict(face_list2)\n",
        "\n",
        "    distance = np.sum(np.square(tensor1-tensor2), axis=-1)\n",
        "    # prediction = np.where(distance<=threshold, 0, 1)\n",
        "    return distance\n",
        "\n",
        "def ModelMetrics(true, pred):\n",
        "    # Compute and print the accuracy\n",
        "    print(f\"\\nAccuracy of model: {accuracy_score(true, pred)}\\n\")\n",
        "\n",
        "    # Compute and plot the Confusion matrix\n",
        "    cf_matrix = confusion_matrix(true, pred)\n",
        "\n",
        "    categories  = ['Similar','Different']\n",
        "    names = ['True Similar','False Different', 'False Similar','True Different']\n",
        "    percentages = ['{0:.2%}'.format(value) for value in cf_matrix.flatten() / np.sum(cf_matrix)]\n",
        "\n",
        "    labels = [f'{v1}\\n{v2}' for v1, v2 in zip(names, percentages)]\n",
        "    labels = np.asarray(labels).reshape(2,2)\n",
        "\n",
        "    sns.heatmap(cf_matrix, annot = labels, cmap = 'Blues',fmt = '',\n",
        "                xticklabels = categories, yticklabels = categories)\n",
        "\n",
        "    plt.xlabel(\"Predicted\", fontdict = {'size':14}, labelpad = 10)\n",
        "    plt.ylabel(\"Actual\"   , fontdict = {'size':14}, labelpad = 10)\n",
        "    plt.title (\"Confusion Matrix\", fontdict = {'size':18}, pad = 20)"
      ]
    },
    {
      "cell_type": "code",
      "execution_count": null,
      "metadata": {
        "colab": {
          "base_uri": "https://localhost:8080/"
        },
        "id": "HBOg7SZP9rgg",
        "outputId": "611dc138-01cc-49be-a027-a1303455c474"
      },
      "outputs": [
        {
          "name": "stdout",
          "output_type": "stream",
          "text": [
            "8/8 [==============================] - 9s 33ms/step\n",
            "8/8 [==============================] - 0s 46ms/step\n",
            "8/8 [==============================] - 0s 36ms/step\n",
            "8/8 [==============================] - 0s 36ms/step\n",
            "8/8 [==============================] - 0s 51ms/step\n",
            "8/8 [==============================] - 0s 36ms/step\n",
            "8/8 [==============================] - 0s 36ms/step\n",
            "8/8 [==============================] - 0s 36ms/step\n",
            "8/8 [==============================] - 0s 51ms/step\n",
            "8/8 [==============================] - 0s 36ms/step\n",
            "8/8 [==============================] - 0s 36ms/step\n",
            "8/8 [==============================] - 0s 36ms/step\n",
            "7/7 [==============================] - 2s 162ms/step\n",
            "7/7 [==============================] - 0s 36ms/step\n",
            "7/7 [==============================] - 0s 36ms/step\n",
            "7/7 [==============================] - 0s 36ms/step\n"
          ]
        }
      ],
      "source": [
        "pos_list = np.array([])\n",
        "neg_list = np.array([])\n",
        "\n",
        "for data in get_batch(test_triplet, batch_size=256):\n",
        "    a, p, n = data\n",
        "    pos_list = np.append(pos_list, get_siamese_distance(a, p))\n",
        "    neg_list = np.append(neg_list, get_siamese_distance(a, n))"
      ]
    },
    {
      "cell_type": "code",
      "execution_count": null,
      "metadata": {
        "colab": {
          "base_uri": "https://localhost:8080/",
          "height": 561
        },
        "id": "gU_Y2hoWuAlq",
        "outputId": "55b523b7-9520-4cda-8517-00010bf63b03"
      },
      "outputs": [
        {
          "name": "stdout",
          "output_type": "stream",
          "text": [
            "\n",
            "Accuracy of model: 0.8449494949494949\n",
            "\n"
          ]
        },
        {
          "data": {
            "image/png": "[encoded data removed]",
            "text/plain": [
              "<Figure size 640x480 with 2 Axes>"
            ]
          },
          "metadata": {},
          "output_type": "display_data"
        }
      ],
      "source": [
        "y_true = np.array([0]*len(pos_list) + [1]*len(neg_list))\n",
        "y_score = np.hstack([pos_list,neg_list])\n",
        "y_pred = y_score > 1\n",
        "ModelMetrics(y_true, y_pred)"
      ]
    },
    {
      "cell_type": "code",
      "execution_count": null,
      "metadata": {
        "colab": {
          "base_uri": "https://localhost:8080/",
          "height": 466
        },
        "id": "tbwQYqf_uAlr",
        "outputId": "7459564a-6de7-4ab7-b03f-9f1d1863cb71"
      },
      "outputs": [
        {
          "data": {
            "text/plain": [
              "<sklearn.metrics._plot.roc_curve.RocCurveDisplay at 0x7c304d40b5b0>"
            ]
          },
          "execution_count": 15,
          "metadata": {},
          "output_type": "execute_result"
        },
        {
          "data": {
            "image/png": "[encoded data removed]",
            "text/plain": [
              "<Figure size 640x480 with 1 Axes>"
            ]
          },
          "metadata": {},
          "output_type": "display_data"
        }
      ],
      "source": [
        "from sklearn.metrics import roc_curve, RocCurveDisplay\n",
        "fpr, tpr, thresholds = roc_curve(y_true, y_score)\n",
        "RocCurveDisplay(fpr= fpr, tpr = tpr).plot()"
      ]
    }
  ],
  "metadata": {
    "accelerator": "GPU",
    "colab": {
      "provenance": []
    },
    "kernelspec": {
      "display_name": "Python 3",
      "name": "python3"
    },
    "language_info": {
      "name": "python"
    }
  },
  "nbformat": 4,
  "nbformat_minor": 0
}
